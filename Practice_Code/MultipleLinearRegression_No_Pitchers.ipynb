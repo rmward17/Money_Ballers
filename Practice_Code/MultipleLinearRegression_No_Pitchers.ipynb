{
  "nbformat": 4,
  "nbformat_minor": 0,
  "metadata": {
    "colab": {
      "name": "MultipleLinearRegression_No_Pitchers.ipynb",
      "provenance": []
    },
    "kernelspec": {
      "name": "python3",
      "display_name": "Python 3"
    },
    "language_info": {
      "name": "python"
    }
  },
  "cells": [
    {
      "cell_type": "code",
      "execution_count": 47,
      "metadata": {
        "id": "9TGTpMQUE3a-"
      },
      "outputs": [],
      "source": [
        "#Import dependencies\n",
        "%matplotlib inline\n",
        "import matplotlib.pyplot as plt\n",
        "import numpy as np"
      ]
    },
    {
      "cell_type": "code",
      "source": [
        "#Import Data\n",
        "from google.colab import files\n",
        "uploaded = files.upload()"
      ],
      "metadata": {
        "id": "JnC77mLlGLd9",
        "colab": {
          "resources": {
            "http://localhost:8080/nbextensions/google.colab/files.js": {
              "data": "Ly8gQ29weXJpZ2h0IDIwMTcgR29vZ2xlIExMQwovLwovLyBMaWNlbnNlZCB1bmRlciB0aGUgQXBhY2hlIExpY2Vuc2UsIFZlcnNpb24gMi4wICh0aGUgIkxpY2Vuc2UiKTsKLy8geW91IG1heSBub3QgdXNlIHRoaXMgZmlsZSBleGNlcHQgaW4gY29tcGxpYW5jZSB3aXRoIHRoZSBMaWNlbnNlLgovLyBZb3UgbWF5IG9idGFpbiBhIGNvcHkgb2YgdGhlIExpY2Vuc2UgYXQKLy8KLy8gICAgICBodHRwOi8vd3d3LmFwYWNoZS5vcmcvbGljZW5zZXMvTElDRU5TRS0yLjAKLy8KLy8gVW5sZXNzIHJlcXVpcmVkIGJ5IGFwcGxpY2FibGUgbGF3IG9yIGFncmVlZCB0byBpbiB3cml0aW5nLCBzb2Z0d2FyZQovLyBkaXN0cmlidXRlZCB1bmRlciB0aGUgTGljZW5zZSBpcyBkaXN0cmlidXRlZCBvbiBhbiAiQVMgSVMiIEJBU0lTLAovLyBXSVRIT1VUIFdBUlJBTlRJRVMgT1IgQ09ORElUSU9OUyBPRiBBTlkgS0lORCwgZWl0aGVyIGV4cHJlc3Mgb3IgaW1wbGllZC4KLy8gU2VlIHRoZSBMaWNlbnNlIGZvciB0aGUgc3BlY2lmaWMgbGFuZ3VhZ2UgZ292ZXJuaW5nIHBlcm1pc3Npb25zIGFuZAovLyBsaW1pdGF0aW9ucyB1bmRlciB0aGUgTGljZW5zZS4KCi8qKgogKiBAZmlsZW92ZXJ2aWV3IEhlbHBlcnMgZm9yIGdvb2dsZS5jb2xhYiBQeXRob24gbW9kdWxlLgogKi8KKGZ1bmN0aW9uKHNjb3BlKSB7CmZ1bmN0aW9uIHNwYW4odGV4dCwgc3R5bGVBdHRyaWJ1dGVzID0ge30pIHsKICBjb25zdCBlbGVtZW50ID0gZG9jdW1lbnQuY3JlYXRlRWxlbWVudCgnc3BhbicpOwogIGVsZW1lbnQudGV4dENvbnRlbnQgPSB0ZXh0OwogIGZvciAoY29uc3Qga2V5IG9mIE9iamVjdC5rZXlzKHN0eWxlQXR0cmlidXRlcykpIHsKICAgIGVsZW1lbnQuc3R5bGVba2V5XSA9IHN0eWxlQXR0cmlidXRlc1trZXldOwogIH0KICByZXR1cm4gZWxlbWVudDsKfQoKLy8gTWF4IG51bWJlciBvZiBieXRlcyB3aGljaCB3aWxsIGJlIHVwbG9hZGVkIGF0IGEgdGltZS4KY29uc3QgTUFYX1BBWUxPQURfU0laRSA9IDEwMCAqIDEwMjQ7CgpmdW5jdGlvbiBfdXBsb2FkRmlsZXMoaW5wdXRJZCwgb3V0cHV0SWQpIHsKICBjb25zdCBzdGVwcyA9IHVwbG9hZEZpbGVzU3RlcChpbnB1dElkLCBvdXRwdXRJZCk7CiAgY29uc3Qgb3V0cHV0RWxlbWVudCA9IGRvY3VtZW50LmdldEVsZW1lbnRCeUlkKG91dHB1dElkKTsKICAvLyBDYWNoZSBzdGVwcyBvbiB0aGUgb3V0cHV0RWxlbWVudCB0byBtYWtlIGl0IGF2YWlsYWJsZSBmb3IgdGhlIG5leHQgY2FsbAogIC8vIHRvIHVwbG9hZEZpbGVzQ29udGludWUgZnJvbSBQeXRob24uCiAgb3V0cHV0RWxlbWVudC5zdGVwcyA9IHN0ZXBzOwoKICByZXR1cm4gX3VwbG9hZEZpbGVzQ29udGludWUob3V0cHV0SWQpOwp9CgovLyBUaGlzIGlzIHJvdWdobHkgYW4gYXN5bmMgZ2VuZXJhdG9yIChub3Qgc3VwcG9ydGVkIGluIHRoZSBicm93c2VyIHlldCksCi8vIHdoZXJlIHRoZXJlIGFyZSBtdWx0aXBsZSBhc3luY2hyb25vdXMgc3RlcHMgYW5kIHRoZSBQeXRob24gc2lkZSBpcyBnb2luZwovLyB0byBwb2xsIGZvciBjb21wbGV0aW9uIG9mIGVhY2ggc3RlcC4KLy8gVGhpcyB1c2VzIGEgUHJvbWlzZSB0byBibG9jayB0aGUgcHl0aG9uIHNpZGUgb24gY29tcGxldGlvbiBvZiBlYWNoIHN0ZXAsCi8vIHRoZW4gcGFzc2VzIHRoZSByZXN1bHQgb2YgdGhlIHByZXZpb3VzIHN0ZXAgYXMgdGhlIGlucHV0IHRvIHRoZSBuZXh0IHN0ZXAuCmZ1bmN0aW9uIF91cGxvYWRGaWxlc0NvbnRpbnVlKG91dHB1dElkKSB7CiAgY29uc3Qgb3V0cHV0RWxlbWVudCA9IGRvY3VtZW50LmdldEVsZW1lbnRCeUlkKG91dHB1dElkKTsKICBjb25zdCBzdGVwcyA9IG91dHB1dEVsZW1lbnQuc3RlcHM7CgogIGNvbnN0IG5leHQgPSBzdGVwcy5uZXh0KG91dHB1dEVsZW1lbnQubGFzdFByb21pc2VWYWx1ZSk7CiAgcmV0dXJuIFByb21pc2UucmVzb2x2ZShuZXh0LnZhbHVlLnByb21pc2UpLnRoZW4oKHZhbHVlKSA9PiB7CiAgICAvLyBDYWNoZSB0aGUgbGFzdCBwcm9taXNlIHZhbHVlIHRvIG1ha2UgaXQgYXZhaWxhYmxlIHRvIHRoZSBuZXh0CiAgICAvLyBzdGVwIG9mIHRoZSBnZW5lcmF0b3IuCiAgICBvdXRwdXRFbGVtZW50Lmxhc3RQcm9taXNlVmFsdWUgPSB2YWx1ZTsKICAgIHJldHVybiBuZXh0LnZhbHVlLnJlc3BvbnNlOwogIH0pOwp9CgovKioKICogR2VuZXJhdG9yIGZ1bmN0aW9uIHdoaWNoIGlzIGNhbGxlZCBiZXR3ZWVuIGVhY2ggYXN5bmMgc3RlcCBvZiB0aGUgdXBsb2FkCiAqIHByb2Nlc3MuCiAqIEBwYXJhbSB7c3RyaW5nfSBpbnB1dElkIEVsZW1lbnQgSUQgb2YgdGhlIGlucHV0IGZpbGUgcGlja2VyIGVsZW1lbnQuCiAqIEBwYXJhbSB7c3RyaW5nfSBvdXRwdXRJZCBFbGVtZW50IElEIG9mIHRoZSBvdXRwdXQgZGlzcGxheS4KICogQHJldHVybiB7IUl0ZXJhYmxlPCFPYmplY3Q+fSBJdGVyYWJsZSBvZiBuZXh0IHN0ZXBzLgogKi8KZnVuY3Rpb24qIHVwbG9hZEZpbGVzU3RlcChpbnB1dElkLCBvdXRwdXRJZCkgewogIGNvbnN0IGlucHV0RWxlbWVudCA9IGRvY3VtZW50LmdldEVsZW1lbnRCeUlkKGlucHV0SWQpOwogIGlucHV0RWxlbWVudC5kaXNhYmxlZCA9IGZhbHNlOwoKICBjb25zdCBvdXRwdXRFbGVtZW50ID0gZG9jdW1lbnQuZ2V0RWxlbWVudEJ5SWQob3V0cHV0SWQpOwogIG91dHB1dEVsZW1lbnQuaW5uZXJIVE1MID0gJyc7CgogIGNvbnN0IHBpY2tlZFByb21pc2UgPSBuZXcgUHJvbWlzZSgocmVzb2x2ZSkgPT4gewogICAgaW5wdXRFbGVtZW50LmFkZEV2ZW50TGlzdGVuZXIoJ2NoYW5nZScsIChlKSA9PiB7CiAgICAgIHJlc29sdmUoZS50YXJnZXQuZmlsZXMpOwogICAgfSk7CiAgfSk7CgogIGNvbnN0IGNhbmNlbCA9IGRvY3VtZW50LmNyZWF0ZUVsZW1lbnQoJ2J1dHRvbicpOwogIGlucHV0RWxlbWVudC5wYXJlbnRFbGVtZW50LmFwcGVuZENoaWxkKGNhbmNlbCk7CiAgY2FuY2VsLnRleHRDb250ZW50ID0gJ0NhbmNlbCB1cGxvYWQnOwogIGNvbnN0IGNhbmNlbFByb21pc2UgPSBuZXcgUHJvbWlzZSgocmVzb2x2ZSkgPT4gewogICAgY2FuY2VsLm9uY2xpY2sgPSAoKSA9PiB7CiAgICAgIHJlc29sdmUobnVsbCk7CiAgICB9OwogIH0pOwoKICAvLyBXYWl0IGZvciB0aGUgdXNlciB0byBwaWNrIHRoZSBmaWxlcy4KICBjb25zdCBmaWxlcyA9IHlpZWxkIHsKICAgIHByb21pc2U6IFByb21pc2UucmFjZShbcGlja2VkUHJvbWlzZSwgY2FuY2VsUHJvbWlzZV0pLAogICAgcmVzcG9uc2U6IHsKICAgICAgYWN0aW9uOiAnc3RhcnRpbmcnLAogICAgfQogIH07CgogIGNhbmNlbC5yZW1vdmUoKTsKCiAgLy8gRGlzYWJsZSB0aGUgaW5wdXQgZWxlbWVudCBzaW5jZSBmdXJ0aGVyIHBpY2tzIGFyZSBub3QgYWxsb3dlZC4KICBpbnB1dEVsZW1lbnQuZGlzYWJsZWQgPSB0cnVlOwoKICBpZiAoIWZpbGVzKSB7CiAgICByZXR1cm4gewogICAgICByZXNwb25zZTogewogICAgICAgIGFjdGlvbjogJ2NvbXBsZXRlJywKICAgICAgfQogICAgfTsKICB9CgogIGZvciAoY29uc3QgZmlsZSBvZiBmaWxlcykgewogICAgY29uc3QgbGkgPSBkb2N1bWVudC5jcmVhdGVFbGVtZW50KCdsaScpOwogICAgbGkuYXBwZW5kKHNwYW4oZmlsZS5uYW1lLCB7Zm9udFdlaWdodDogJ2JvbGQnfSkpOwogICAgbGkuYXBwZW5kKHNwYW4oCiAgICAgICAgYCgke2ZpbGUudHlwZSB8fCAnbi9hJ30pIC0gJHtmaWxlLnNpemV9IGJ5dGVzLCBgICsKICAgICAgICBgbGFzdCBtb2RpZmllZDogJHsKICAgICAgICAgICAgZmlsZS5sYXN0TW9kaWZpZWREYXRlID8gZmlsZS5sYXN0TW9kaWZpZWREYXRlLnRvTG9jYWxlRGF0ZVN0cmluZygpIDoKICAgICAgICAgICAgICAgICAgICAgICAgICAgICAgICAgICAgJ24vYSd9IC0gYCkpOwogICAgY29uc3QgcGVyY2VudCA9IHNwYW4oJzAlIGRvbmUnKTsKICAgIGxpLmFwcGVuZENoaWxkKHBlcmNlbnQpOwoKICAgIG91dHB1dEVsZW1lbnQuYXBwZW5kQ2hpbGQobGkpOwoKICAgIGNvbnN0IGZpbGVEYXRhUHJvbWlzZSA9IG5ldyBQcm9taXNlKChyZXNvbHZlKSA9PiB7CiAgICAgIGNvbnN0IHJlYWRlciA9IG5ldyBGaWxlUmVhZGVyKCk7CiAgICAgIHJlYWRlci5vbmxvYWQgPSAoZSkgPT4gewogICAgICAgIHJlc29sdmUoZS50YXJnZXQucmVzdWx0KTsKICAgICAgfTsKICAgICAgcmVhZGVyLnJlYWRBc0FycmF5QnVmZmVyKGZpbGUpOwogICAgfSk7CiAgICAvLyBXYWl0IGZvciB0aGUgZGF0YSB0byBiZSByZWFkeS4KICAgIGxldCBmaWxlRGF0YSA9IHlpZWxkIHsKICAgICAgcHJvbWlzZTogZmlsZURhdGFQcm9taXNlLAogICAgICByZXNwb25zZTogewogICAgICAgIGFjdGlvbjogJ2NvbnRpbnVlJywKICAgICAgfQogICAgfTsKCiAgICAvLyBVc2UgYSBjaHVua2VkIHNlbmRpbmcgdG8gYXZvaWQgbWVzc2FnZSBzaXplIGxpbWl0cy4gU2VlIGIvNjIxMTU2NjAuCiAgICBsZXQgcG9zaXRpb24gPSAwOwogICAgZG8gewogICAgICBjb25zdCBsZW5ndGggPSBNYXRoLm1pbihmaWxlRGF0YS5ieXRlTGVuZ3RoIC0gcG9zaXRpb24sIE1BWF9QQVlMT0FEX1NJWkUpOwogICAgICBjb25zdCBjaHVuayA9IG5ldyBVaW50OEFycmF5KGZpbGVEYXRhLCBwb3NpdGlvbiwgbGVuZ3RoKTsKICAgICAgcG9zaXRpb24gKz0gbGVuZ3RoOwoKICAgICAgY29uc3QgYmFzZTY0ID0gYnRvYShTdHJpbmcuZnJvbUNoYXJDb2RlLmFwcGx5KG51bGwsIGNodW5rKSk7CiAgICAgIHlpZWxkIHsKICAgICAgICByZXNwb25zZTogewogICAgICAgICAgYWN0aW9uOiAnYXBwZW5kJywKICAgICAgICAgIGZpbGU6IGZpbGUubmFtZSwKICAgICAgICAgIGRhdGE6IGJhc2U2NCwKICAgICAgICB9LAogICAgICB9OwoKICAgICAgbGV0IHBlcmNlbnREb25lID0gZmlsZURhdGEuYnl0ZUxlbmd0aCA9PT0gMCA/CiAgICAgICAgICAxMDAgOgogICAgICAgICAgTWF0aC5yb3VuZCgocG9zaXRpb24gLyBmaWxlRGF0YS5ieXRlTGVuZ3RoKSAqIDEwMCk7CiAgICAgIHBlcmNlbnQudGV4dENvbnRlbnQgPSBgJHtwZXJjZW50RG9uZX0lIGRvbmVgOwoKICAgIH0gd2hpbGUgKHBvc2l0aW9uIDwgZmlsZURhdGEuYnl0ZUxlbmd0aCk7CiAgfQoKICAvLyBBbGwgZG9uZS4KICB5aWVsZCB7CiAgICByZXNwb25zZTogewogICAgICBhY3Rpb246ICdjb21wbGV0ZScsCiAgICB9CiAgfTsKfQoKc2NvcGUuZ29vZ2xlID0gc2NvcGUuZ29vZ2xlIHx8IHt9OwpzY29wZS5nb29nbGUuY29sYWIgPSBzY29wZS5nb29nbGUuY29sYWIgfHwge307CnNjb3BlLmdvb2dsZS5jb2xhYi5fZmlsZXMgPSB7CiAgX3VwbG9hZEZpbGVzLAogIF91cGxvYWRGaWxlc0NvbnRpbnVlLAp9Owp9KShzZWxmKTsK",
              "ok": true,
              "headers": [
                [
                  "content-type",
                  "application/javascript"
                ]
              ],
              "status": 200,
              "status_text": ""
            }
          },
          "base_uri": "https://localhost:8080/",
          "height": 73
        },
        "outputId": "108f3b11-6f85-40e5-8ed8-9cde8fac4cb1"
      },
      "execution_count": 48,
      "outputs": [
        {
          "output_type": "display_data",
          "data": {
            "text/plain": [
              "<IPython.core.display.HTML object>"
            ],
            "text/html": [
              "\n",
              "     <input type=\"file\" id=\"files-61bbe06b-c938-4419-8e48-f3336ccad80a\" name=\"files[]\" multiple disabled\n",
              "        style=\"border:none\" />\n",
              "     <output id=\"result-61bbe06b-c938-4419-8e48-f3336ccad80a\">\n",
              "      Upload widget is only available when the cell has been executed in the\n",
              "      current browser session. Please rerun this cell to enable.\n",
              "      </output>\n",
              "      <script src=\"/nbextensions/google.colab/files.js\"></script> "
            ]
          },
          "metadata": {}
        },
        {
          "output_type": "stream",
          "name": "stdout",
          "text": [
            "Saving salary_batting_fielding_people_2015.csv to salary_batting_fielding_people_2015 (2).csv\n"
          ]
        }
      ]
    },
    {
      "cell_type": "code",
      "source": [
        "import pandas as pd\n",
        "df = pd.read_csv('salary_batting_fielding_people_2015.csv')\n",
        "df.head()"
      ],
      "metadata": {
        "colab": {
          "base_uri": "https://localhost:8080/",
          "height": 386
        },
        "id": "8m7gw-mgniSH",
        "outputId": "abbad33f-ffcd-4178-b623-b50e916ac541"
      },
      "execution_count": 49,
      "outputs": [
        {
          "output_type": "execute_result",
          "data": {
            "text/plain": [
              "           uniqueid  yearid  battingyearid teamid lgid   playerid   salary  \\\n",
              "0   2015OAKabadfe01    2015           2014    OAK   AL   abadfe01  1087500   \n",
              "1  2015CHAabreujo02    2015           2014    CHA   AL  abreujo02  8666000   \n",
              "2  2015SEAackledu01    2015           2014    SEA   AL  ackledu01  2600000   \n",
              "3  2015CLEadamsau01    2015           2014    CLE   AL  adamsau01   507700   \n",
              "4  2015SFNaffelje01    2015           2014    SFN   NL  affelje01  6000000   \n",
              "\n",
              "   games  bats  runs  ...  namelast         namegiven  weight  height  \\\n",
              "0     69     0     0  ...      Abad  Fernando Antonio     235      74   \n",
              "1    145   556    80  ...     Abreu       Jose Dariel     235      75   \n",
              "2    143   502    64  ...    Ackley    Dustin Michael     205      73   \n",
              "3      6     0     0  ...     Adams      Austin David     205      71   \n",
              "4     62     0     0  ...   Affeldt      Jeremy David     225      76   \n",
              "\n",
              "   bats_hand  throws_hand       debut   finalgame   retroid    bbrefid  \n",
              "0          L            L  2010-07-28  2021-10-01  abadf001   abadfe01  \n",
              "1          R            R  2014-03-31  2021-10-02  abrej003  abreujo02  \n",
              "2          L            R  2011-06-17  2016-05-29  ackld001  ackledu01  \n",
              "3          R            R  2014-07-12  2019-07-06  adama001  adamsau01  \n",
              "4          L            L  2002-04-06  2015-10-04  affej001  affelje01  \n",
              "\n",
              "[5 rows x 52 columns]"
            ],
            "text/html": [
              "\n",
              "  <div id=\"df-7a80ea2a-a6d1-4f8e-a4f6-395ed6e28eb7\">\n",
              "    <div class=\"colab-df-container\">\n",
              "      <div>\n",
              "<style scoped>\n",
              "    .dataframe tbody tr th:only-of-type {\n",
              "        vertical-align: middle;\n",
              "    }\n",
              "\n",
              "    .dataframe tbody tr th {\n",
              "        vertical-align: top;\n",
              "    }\n",
              "\n",
              "    .dataframe thead th {\n",
              "        text-align: right;\n",
              "    }\n",
              "</style>\n",
              "<table border=\"1\" class=\"dataframe\">\n",
              "  <thead>\n",
              "    <tr style=\"text-align: right;\">\n",
              "      <th></th>\n",
              "      <th>uniqueid</th>\n",
              "      <th>yearid</th>\n",
              "      <th>battingyearid</th>\n",
              "      <th>teamid</th>\n",
              "      <th>lgid</th>\n",
              "      <th>playerid</th>\n",
              "      <th>salary</th>\n",
              "      <th>games</th>\n",
              "      <th>bats</th>\n",
              "      <th>runs</th>\n",
              "      <th>...</th>\n",
              "      <th>namelast</th>\n",
              "      <th>namegiven</th>\n",
              "      <th>weight</th>\n",
              "      <th>height</th>\n",
              "      <th>bats_hand</th>\n",
              "      <th>throws_hand</th>\n",
              "      <th>debut</th>\n",
              "      <th>finalgame</th>\n",
              "      <th>retroid</th>\n",
              "      <th>bbrefid</th>\n",
              "    </tr>\n",
              "  </thead>\n",
              "  <tbody>\n",
              "    <tr>\n",
              "      <th>0</th>\n",
              "      <td>2015OAKabadfe01</td>\n",
              "      <td>2015</td>\n",
              "      <td>2014</td>\n",
              "      <td>OAK</td>\n",
              "      <td>AL</td>\n",
              "      <td>abadfe01</td>\n",
              "      <td>1087500</td>\n",
              "      <td>69</td>\n",
              "      <td>0</td>\n",
              "      <td>0</td>\n",
              "      <td>...</td>\n",
              "      <td>Abad</td>\n",
              "      <td>Fernando Antonio</td>\n",
              "      <td>235</td>\n",
              "      <td>74</td>\n",
              "      <td>L</td>\n",
              "      <td>L</td>\n",
              "      <td>2010-07-28</td>\n",
              "      <td>2021-10-01</td>\n",
              "      <td>abadf001</td>\n",
              "      <td>abadfe01</td>\n",
              "    </tr>\n",
              "    <tr>\n",
              "      <th>1</th>\n",
              "      <td>2015CHAabreujo02</td>\n",
              "      <td>2015</td>\n",
              "      <td>2014</td>\n",
              "      <td>CHA</td>\n",
              "      <td>AL</td>\n",
              "      <td>abreujo02</td>\n",
              "      <td>8666000</td>\n",
              "      <td>145</td>\n",
              "      <td>556</td>\n",
              "      <td>80</td>\n",
              "      <td>...</td>\n",
              "      <td>Abreu</td>\n",
              "      <td>Jose Dariel</td>\n",
              "      <td>235</td>\n",
              "      <td>75</td>\n",
              "      <td>R</td>\n",
              "      <td>R</td>\n",
              "      <td>2014-03-31</td>\n",
              "      <td>2021-10-02</td>\n",
              "      <td>abrej003</td>\n",
              "      <td>abreujo02</td>\n",
              "    </tr>\n",
              "    <tr>\n",
              "      <th>2</th>\n",
              "      <td>2015SEAackledu01</td>\n",
              "      <td>2015</td>\n",
              "      <td>2014</td>\n",
              "      <td>SEA</td>\n",
              "      <td>AL</td>\n",
              "      <td>ackledu01</td>\n",
              "      <td>2600000</td>\n",
              "      <td>143</td>\n",
              "      <td>502</td>\n",
              "      <td>64</td>\n",
              "      <td>...</td>\n",
              "      <td>Ackley</td>\n",
              "      <td>Dustin Michael</td>\n",
              "      <td>205</td>\n",
              "      <td>73</td>\n",
              "      <td>L</td>\n",
              "      <td>R</td>\n",
              "      <td>2011-06-17</td>\n",
              "      <td>2016-05-29</td>\n",
              "      <td>ackld001</td>\n",
              "      <td>ackledu01</td>\n",
              "    </tr>\n",
              "    <tr>\n",
              "      <th>3</th>\n",
              "      <td>2015CLEadamsau01</td>\n",
              "      <td>2015</td>\n",
              "      <td>2014</td>\n",
              "      <td>CLE</td>\n",
              "      <td>AL</td>\n",
              "      <td>adamsau01</td>\n",
              "      <td>507700</td>\n",
              "      <td>6</td>\n",
              "      <td>0</td>\n",
              "      <td>0</td>\n",
              "      <td>...</td>\n",
              "      <td>Adams</td>\n",
              "      <td>Austin David</td>\n",
              "      <td>205</td>\n",
              "      <td>71</td>\n",
              "      <td>R</td>\n",
              "      <td>R</td>\n",
              "      <td>2014-07-12</td>\n",
              "      <td>2019-07-06</td>\n",
              "      <td>adama001</td>\n",
              "      <td>adamsau01</td>\n",
              "    </tr>\n",
              "    <tr>\n",
              "      <th>4</th>\n",
              "      <td>2015SFNaffelje01</td>\n",
              "      <td>2015</td>\n",
              "      <td>2014</td>\n",
              "      <td>SFN</td>\n",
              "      <td>NL</td>\n",
              "      <td>affelje01</td>\n",
              "      <td>6000000</td>\n",
              "      <td>62</td>\n",
              "      <td>0</td>\n",
              "      <td>0</td>\n",
              "      <td>...</td>\n",
              "      <td>Affeldt</td>\n",
              "      <td>Jeremy David</td>\n",
              "      <td>225</td>\n",
              "      <td>76</td>\n",
              "      <td>L</td>\n",
              "      <td>L</td>\n",
              "      <td>2002-04-06</td>\n",
              "      <td>2015-10-04</td>\n",
              "      <td>affej001</td>\n",
              "      <td>affelje01</td>\n",
              "    </tr>\n",
              "  </tbody>\n",
              "</table>\n",
              "<p>5 rows × 52 columns</p>\n",
              "</div>\n",
              "      <button class=\"colab-df-convert\" onclick=\"convertToInteractive('df-7a80ea2a-a6d1-4f8e-a4f6-395ed6e28eb7')\"\n",
              "              title=\"Convert this dataframe to an interactive table.\"\n",
              "              style=\"display:none;\">\n",
              "        \n",
              "  <svg xmlns=\"http://www.w3.org/2000/svg\" height=\"24px\"viewBox=\"0 0 24 24\"\n",
              "       width=\"24px\">\n",
              "    <path d=\"M0 0h24v24H0V0z\" fill=\"none\"/>\n",
              "    <path d=\"M18.56 5.44l.94 2.06.94-2.06 2.06-.94-2.06-.94-.94-2.06-.94 2.06-2.06.94zm-11 1L8.5 8.5l.94-2.06 2.06-.94-2.06-.94L8.5 2.5l-.94 2.06-2.06.94zm10 10l.94 2.06.94-2.06 2.06-.94-2.06-.94-.94-2.06-.94 2.06-2.06.94z\"/><path d=\"M17.41 7.96l-1.37-1.37c-.4-.4-.92-.59-1.43-.59-.52 0-1.04.2-1.43.59L10.3 9.45l-7.72 7.72c-.78.78-.78 2.05 0 2.83L4 21.41c.39.39.9.59 1.41.59.51 0 1.02-.2 1.41-.59l7.78-7.78 2.81-2.81c.8-.78.8-2.07 0-2.86zM5.41 20L4 18.59l7.72-7.72 1.47 1.35L5.41 20z\"/>\n",
              "  </svg>\n",
              "      </button>\n",
              "      \n",
              "  <style>\n",
              "    .colab-df-container {\n",
              "      display:flex;\n",
              "      flex-wrap:wrap;\n",
              "      gap: 12px;\n",
              "    }\n",
              "\n",
              "    .colab-df-convert {\n",
              "      background-color: #E8F0FE;\n",
              "      border: none;\n",
              "      border-radius: 50%;\n",
              "      cursor: pointer;\n",
              "      display: none;\n",
              "      fill: #1967D2;\n",
              "      height: 32px;\n",
              "      padding: 0 0 0 0;\n",
              "      width: 32px;\n",
              "    }\n",
              "\n",
              "    .colab-df-convert:hover {\n",
              "      background-color: #E2EBFA;\n",
              "      box-shadow: 0px 1px 2px rgba(60, 64, 67, 0.3), 0px 1px 3px 1px rgba(60, 64, 67, 0.15);\n",
              "      fill: #174EA6;\n",
              "    }\n",
              "\n",
              "    [theme=dark] .colab-df-convert {\n",
              "      background-color: #3B4455;\n",
              "      fill: #D2E3FC;\n",
              "    }\n",
              "\n",
              "    [theme=dark] .colab-df-convert:hover {\n",
              "      background-color: #434B5C;\n",
              "      box-shadow: 0px 1px 3px 1px rgba(0, 0, 0, 0.15);\n",
              "      filter: drop-shadow(0px 1px 2px rgba(0, 0, 0, 0.3));\n",
              "      fill: #FFFFFF;\n",
              "    }\n",
              "  </style>\n",
              "\n",
              "      <script>\n",
              "        const buttonEl =\n",
              "          document.querySelector('#df-7a80ea2a-a6d1-4f8e-a4f6-395ed6e28eb7 button.colab-df-convert');\n",
              "        buttonEl.style.display =\n",
              "          google.colab.kernel.accessAllowed ? 'block' : 'none';\n",
              "\n",
              "        async function convertToInteractive(key) {\n",
              "          const element = document.querySelector('#df-7a80ea2a-a6d1-4f8e-a4f6-395ed6e28eb7');\n",
              "          const dataTable =\n",
              "            await google.colab.kernel.invokeFunction('convertToInteractive',\n",
              "                                                     [key], {});\n",
              "          if (!dataTable) return;\n",
              "\n",
              "          const docLinkHtml = 'Like what you see? Visit the ' +\n",
              "            '<a target=\"_blank\" href=https://colab.research.google.com/notebooks/data_table.ipynb>data table notebook</a>'\n",
              "            + ' to learn more about interactive tables.';\n",
              "          element.innerHTML = '';\n",
              "          dataTable['output_type'] = 'display_data';\n",
              "          await google.colab.output.renderOutput(dataTable, element);\n",
              "          const docLink = document.createElement('div');\n",
              "          docLink.innerHTML = docLinkHtml;\n",
              "          element.appendChild(docLink);\n",
              "        }\n",
              "      </script>\n",
              "    </div>\n",
              "  </div>\n",
              "  "
            ]
          },
          "metadata": {},
          "execution_count": 49
        }
      ]
    },
    {
      "cell_type": "code",
      "source": [
        "df.columns"
      ],
      "metadata": {
        "colab": {
          "base_uri": "https://localhost:8080/"
        },
        "id": "CFn0_cYVoQ0a",
        "outputId": "e1530a01-c7d2-4c76-f264-b779678ff6fb"
      },
      "execution_count": 50,
      "outputs": [
        {
          "output_type": "execute_result",
          "data": {
            "text/plain": [
              "Index(['uniqueid', 'yearid', 'battingyearid', 'teamid', 'lgid', 'playerid',\n",
              "       'salary', 'games', 'bats', 'runs', 'hits', 'doubles', 'triples',\n",
              "       'homeruns', 'rbi', 'stolen_bases', 'caught_stealing', 'walks',\n",
              "       'strike_outs', 'international_walks', 'hit_by_pitch', 'sacrifice_bunt',\n",
              "       'sacrifice_flies', 'hit_into_double_plays', 'fielding_position',\n",
              "       'innouts', 'assists', 'errors', 'double_plays', 'birthyear',\n",
              "       'birthmonth', 'birthday', 'birthcountry', 'birthstate', 'birthcity',\n",
              "       'deathyear', 'deathmonth', 'deathday', 'deathcountry', 'deathstate',\n",
              "       'deathcity', 'namefirst', 'namelast', 'namegiven', 'weight', 'height',\n",
              "       'bats_hand', 'throws_hand', 'debut', 'finalgame', 'retroid', 'bbrefid'],\n",
              "      dtype='object')"
            ]
          },
          "metadata": {},
          "execution_count": 50
        }
      ]
    },
    {
      "cell_type": "code",
      "source": [
        "df.isnull().values.any()"
      ],
      "metadata": {
        "colab": {
          "base_uri": "https://localhost:8080/"
        },
        "id": "e2k6HqH6pvi2",
        "outputId": "77280293-83ac-4b8c-ecc6-1e0c4b1e65c4"
      },
      "execution_count": 51,
      "outputs": [
        {
          "output_type": "execute_result",
          "data": {
            "text/plain": [
              "True"
            ]
          },
          "metadata": {},
          "execution_count": 51
        }
      ]
    },
    {
      "cell_type": "code",
      "source": [
        "df.isnull().sum()"
      ],
      "metadata": {
        "colab": {
          "base_uri": "https://localhost:8080/"
        },
        "id": "JsvyWO-9qDwR",
        "outputId": "6a196730-02b4-4e34-d99e-d5379a1ea862"
      },
      "execution_count": 52,
      "outputs": [
        {
          "output_type": "execute_result",
          "data": {
            "text/plain": [
              "uniqueid                   0\n",
              "yearid                     0\n",
              "battingyearid              0\n",
              "teamid                     0\n",
              "lgid                       0\n",
              "playerid                   0\n",
              "salary                     0\n",
              "games                      0\n",
              "bats                       0\n",
              "runs                       0\n",
              "hits                       0\n",
              "doubles                    0\n",
              "triples                    0\n",
              "homeruns                   0\n",
              "rbi                        0\n",
              "stolen_bases               0\n",
              "caught_stealing            0\n",
              "walks                      0\n",
              "strike_outs                0\n",
              "international_walks        0\n",
              "hit_by_pitch               0\n",
              "sacrifice_bunt             0\n",
              "sacrifice_flies            0\n",
              "hit_into_double_plays      0\n",
              "fielding_position          0\n",
              "innouts                    0\n",
              "assists                    0\n",
              "errors                     0\n",
              "double_plays               0\n",
              "birthyear                  0\n",
              "birthmonth                 0\n",
              "birthday                   0\n",
              "birthcountry               0\n",
              "birthstate                23\n",
              "birthcity                  0\n",
              "deathyear                780\n",
              "deathmonth               780\n",
              "deathday                 780\n",
              "deathcountry             780\n",
              "deathstate               780\n",
              "deathcity                780\n",
              "namefirst                  0\n",
              "namelast                   0\n",
              "namegiven                  0\n",
              "weight                     0\n",
              "height                     0\n",
              "bats_hand                  0\n",
              "throws_hand                0\n",
              "debut                      0\n",
              "finalgame                  0\n",
              "retroid                    0\n",
              "bbrefid                    0\n",
              "dtype: int64"
            ]
          },
          "metadata": {},
          "execution_count": 52
        }
      ]
    },
    {
      "cell_type": "code",
      "source": [
        "df = df[['salary', 'fielding_position','games','bats','runs','rbi', 'hits', 'doubles', 'triples', 'homeruns', 'walks', 'strike_outs', 'weight','height']]\n",
        "df.columns"
      ],
      "metadata": {
        "colab": {
          "base_uri": "https://localhost:8080/"
        },
        "id": "aEOw_D1CrkG9",
        "outputId": "da967bf7-6743-4002-c88c-541567216384"
      },
      "execution_count": 36,
      "outputs": [
        {
          "output_type": "execute_result",
          "data": {
            "text/plain": [
              "Index(['salary', 'fielding_position', 'games', 'bats', 'runs', 'rbi', 'hits',\n",
              "       'doubles', 'triples', 'homeruns', 'walks', 'strike_outs', 'weight',\n",
              "       'height'],\n",
              "      dtype='object')"
            ]
          },
          "metadata": {},
          "execution_count": 36
        }
      ]
    },
    {
      "cell_type": "code",
      "source": [
        "df.isnull().sum()"
      ],
      "metadata": {
        "colab": {
          "base_uri": "https://localhost:8080/"
        },
        "id": "F-nWsxtTtvgA",
        "outputId": "3321cc67-c254-40bc-b866-1728a0b5e23b"
      },
      "execution_count": 53,
      "outputs": [
        {
          "output_type": "execute_result",
          "data": {
            "text/plain": [
              "uniqueid                   0\n",
              "yearid                     0\n",
              "battingyearid              0\n",
              "teamid                     0\n",
              "lgid                       0\n",
              "playerid                   0\n",
              "salary                     0\n",
              "games                      0\n",
              "bats                       0\n",
              "runs                       0\n",
              "hits                       0\n",
              "doubles                    0\n",
              "triples                    0\n",
              "homeruns                   0\n",
              "rbi                        0\n",
              "stolen_bases               0\n",
              "caught_stealing            0\n",
              "walks                      0\n",
              "strike_outs                0\n",
              "international_walks        0\n",
              "hit_by_pitch               0\n",
              "sacrifice_bunt             0\n",
              "sacrifice_flies            0\n",
              "hit_into_double_plays      0\n",
              "fielding_position          0\n",
              "innouts                    0\n",
              "assists                    0\n",
              "errors                     0\n",
              "double_plays               0\n",
              "birthyear                  0\n",
              "birthmonth                 0\n",
              "birthday                   0\n",
              "birthcountry               0\n",
              "birthstate                23\n",
              "birthcity                  0\n",
              "deathyear                780\n",
              "deathmonth               780\n",
              "deathday                 780\n",
              "deathcountry             780\n",
              "deathstate               780\n",
              "deathcity                780\n",
              "namefirst                  0\n",
              "namelast                   0\n",
              "namegiven                  0\n",
              "weight                     0\n",
              "height                     0\n",
              "bats_hand                  0\n",
              "throws_hand                0\n",
              "debut                      0\n",
              "finalgame                  0\n",
              "retroid                    0\n",
              "bbrefid                    0\n",
              "dtype: int64"
            ]
          },
          "metadata": {},
          "execution_count": 53
        }
      ]
    },
    {
      "cell_type": "code",
      "source": [
        "cleaned_df = df.fillna(0)"
      ],
      "metadata": {
        "id": "XwpeqtYatBCr"
      },
      "execution_count": 54,
      "outputs": []
    },
    {
      "cell_type": "code",
      "source": [
        "df_no_pitchers = cleaned_df[cleaned_df['fielding_position'] != 'P']\n",
        "df_no_pitchers.head()"
      ],
      "metadata": {
        "colab": {
          "base_uri": "https://localhost:8080/",
          "height": 386
        },
        "id": "zMa6IKr34z8Z",
        "outputId": "3422d318-3413-453b-f520-8d631fc4525b"
      },
      "execution_count": 55,
      "outputs": [
        {
          "output_type": "execute_result",
          "data": {
            "text/plain": [
              "           uniqueid  yearid  battingyearid teamid lgid   playerid   salary  \\\n",
              "1  2015CHAabreujo02    2015           2014    CHA   AL  abreujo02  8666000   \n",
              "2  2015SEAackledu01    2015           2014    SEA   AL  ackledu01  2600000   \n",
              "5  2015ARIahmedni01    2015           2014    ARI   NL  ahmedni01   508500   \n",
              "6  2015ARIahmedni01    2015           2014    ARI   NL  ahmedni01   508500   \n",
              "7  2015CHNalcanar01    2015           2014    CHN   NL  alcanar01   510000   \n",
              "\n",
              "   games  bats  runs  ...   namelast       namegiven  weight  height  \\\n",
              "1    145   556    80  ...      Abreu     Jose Dariel     235      75   \n",
              "2    143   502    64  ...     Ackley  Dustin Michael     205      73   \n",
              "5     25    70     9  ...      Ahmed   Nicholas Mark     201      74   \n",
              "6     25    70     9  ...      Ahmed   Nicholas Mark     201      74   \n",
              "7     70   278    31  ...  Alcantara       Arismendy     170      70   \n",
              "\n",
              "   bats_hand  throws_hand       debut   finalgame   retroid    bbrefid  \n",
              "1          R            R  2014-03-31  2021-10-02  abrej003  abreujo02  \n",
              "2          L            R  2011-06-17  2016-05-29  ackld001  ackledu01  \n",
              "5          R            R  2014-06-29  2021-09-17  ahmen001  ahmedni01  \n",
              "6          R            R  2014-06-29  2021-09-17  ahmen001  ahmedni01  \n",
              "7          B            R  2014-07-09  2017-08-09  alcaa001  alcanar01  \n",
              "\n",
              "[5 rows x 52 columns]"
            ],
            "text/html": [
              "\n",
              "  <div id=\"df-db10df82-a6b8-460c-ba7f-55aa4d9cbc94\">\n",
              "    <div class=\"colab-df-container\">\n",
              "      <div>\n",
              "<style scoped>\n",
              "    .dataframe tbody tr th:only-of-type {\n",
              "        vertical-align: middle;\n",
              "    }\n",
              "\n",
              "    .dataframe tbody tr th {\n",
              "        vertical-align: top;\n",
              "    }\n",
              "\n",
              "    .dataframe thead th {\n",
              "        text-align: right;\n",
              "    }\n",
              "</style>\n",
              "<table border=\"1\" class=\"dataframe\">\n",
              "  <thead>\n",
              "    <tr style=\"text-align: right;\">\n",
              "      <th></th>\n",
              "      <th>uniqueid</th>\n",
              "      <th>yearid</th>\n",
              "      <th>battingyearid</th>\n",
              "      <th>teamid</th>\n",
              "      <th>lgid</th>\n",
              "      <th>playerid</th>\n",
              "      <th>salary</th>\n",
              "      <th>games</th>\n",
              "      <th>bats</th>\n",
              "      <th>runs</th>\n",
              "      <th>...</th>\n",
              "      <th>namelast</th>\n",
              "      <th>namegiven</th>\n",
              "      <th>weight</th>\n",
              "      <th>height</th>\n",
              "      <th>bats_hand</th>\n",
              "      <th>throws_hand</th>\n",
              "      <th>debut</th>\n",
              "      <th>finalgame</th>\n",
              "      <th>retroid</th>\n",
              "      <th>bbrefid</th>\n",
              "    </tr>\n",
              "  </thead>\n",
              "  <tbody>\n",
              "    <tr>\n",
              "      <th>1</th>\n",
              "      <td>2015CHAabreujo02</td>\n",
              "      <td>2015</td>\n",
              "      <td>2014</td>\n",
              "      <td>CHA</td>\n",
              "      <td>AL</td>\n",
              "      <td>abreujo02</td>\n",
              "      <td>8666000</td>\n",
              "      <td>145</td>\n",
              "      <td>556</td>\n",
              "      <td>80</td>\n",
              "      <td>...</td>\n",
              "      <td>Abreu</td>\n",
              "      <td>Jose Dariel</td>\n",
              "      <td>235</td>\n",
              "      <td>75</td>\n",
              "      <td>R</td>\n",
              "      <td>R</td>\n",
              "      <td>2014-03-31</td>\n",
              "      <td>2021-10-02</td>\n",
              "      <td>abrej003</td>\n",
              "      <td>abreujo02</td>\n",
              "    </tr>\n",
              "    <tr>\n",
              "      <th>2</th>\n",
              "      <td>2015SEAackledu01</td>\n",
              "      <td>2015</td>\n",
              "      <td>2014</td>\n",
              "      <td>SEA</td>\n",
              "      <td>AL</td>\n",
              "      <td>ackledu01</td>\n",
              "      <td>2600000</td>\n",
              "      <td>143</td>\n",
              "      <td>502</td>\n",
              "      <td>64</td>\n",
              "      <td>...</td>\n",
              "      <td>Ackley</td>\n",
              "      <td>Dustin Michael</td>\n",
              "      <td>205</td>\n",
              "      <td>73</td>\n",
              "      <td>L</td>\n",
              "      <td>R</td>\n",
              "      <td>2011-06-17</td>\n",
              "      <td>2016-05-29</td>\n",
              "      <td>ackld001</td>\n",
              "      <td>ackledu01</td>\n",
              "    </tr>\n",
              "    <tr>\n",
              "      <th>5</th>\n",
              "      <td>2015ARIahmedni01</td>\n",
              "      <td>2015</td>\n",
              "      <td>2014</td>\n",
              "      <td>ARI</td>\n",
              "      <td>NL</td>\n",
              "      <td>ahmedni01</td>\n",
              "      <td>508500</td>\n",
              "      <td>25</td>\n",
              "      <td>70</td>\n",
              "      <td>9</td>\n",
              "      <td>...</td>\n",
              "      <td>Ahmed</td>\n",
              "      <td>Nicholas Mark</td>\n",
              "      <td>201</td>\n",
              "      <td>74</td>\n",
              "      <td>R</td>\n",
              "      <td>R</td>\n",
              "      <td>2014-06-29</td>\n",
              "      <td>2021-09-17</td>\n",
              "      <td>ahmen001</td>\n",
              "      <td>ahmedni01</td>\n",
              "    </tr>\n",
              "    <tr>\n",
              "      <th>6</th>\n",
              "      <td>2015ARIahmedni01</td>\n",
              "      <td>2015</td>\n",
              "      <td>2014</td>\n",
              "      <td>ARI</td>\n",
              "      <td>NL</td>\n",
              "      <td>ahmedni01</td>\n",
              "      <td>508500</td>\n",
              "      <td>25</td>\n",
              "      <td>70</td>\n",
              "      <td>9</td>\n",
              "      <td>...</td>\n",
              "      <td>Ahmed</td>\n",
              "      <td>Nicholas Mark</td>\n",
              "      <td>201</td>\n",
              "      <td>74</td>\n",
              "      <td>R</td>\n",
              "      <td>R</td>\n",
              "      <td>2014-06-29</td>\n",
              "      <td>2021-09-17</td>\n",
              "      <td>ahmen001</td>\n",
              "      <td>ahmedni01</td>\n",
              "    </tr>\n",
              "    <tr>\n",
              "      <th>7</th>\n",
              "      <td>2015CHNalcanar01</td>\n",
              "      <td>2015</td>\n",
              "      <td>2014</td>\n",
              "      <td>CHN</td>\n",
              "      <td>NL</td>\n",
              "      <td>alcanar01</td>\n",
              "      <td>510000</td>\n",
              "      <td>70</td>\n",
              "      <td>278</td>\n",
              "      <td>31</td>\n",
              "      <td>...</td>\n",
              "      <td>Alcantara</td>\n",
              "      <td>Arismendy</td>\n",
              "      <td>170</td>\n",
              "      <td>70</td>\n",
              "      <td>B</td>\n",
              "      <td>R</td>\n",
              "      <td>2014-07-09</td>\n",
              "      <td>2017-08-09</td>\n",
              "      <td>alcaa001</td>\n",
              "      <td>alcanar01</td>\n",
              "    </tr>\n",
              "  </tbody>\n",
              "</table>\n",
              "<p>5 rows × 52 columns</p>\n",
              "</div>\n",
              "      <button class=\"colab-df-convert\" onclick=\"convertToInteractive('df-db10df82-a6b8-460c-ba7f-55aa4d9cbc94')\"\n",
              "              title=\"Convert this dataframe to an interactive table.\"\n",
              "              style=\"display:none;\">\n",
              "        \n",
              "  <svg xmlns=\"http://www.w3.org/2000/svg\" height=\"24px\"viewBox=\"0 0 24 24\"\n",
              "       width=\"24px\">\n",
              "    <path d=\"M0 0h24v24H0V0z\" fill=\"none\"/>\n",
              "    <path d=\"M18.56 5.44l.94 2.06.94-2.06 2.06-.94-2.06-.94-.94-2.06-.94 2.06-2.06.94zm-11 1L8.5 8.5l.94-2.06 2.06-.94-2.06-.94L8.5 2.5l-.94 2.06-2.06.94zm10 10l.94 2.06.94-2.06 2.06-.94-2.06-.94-.94-2.06-.94 2.06-2.06.94z\"/><path d=\"M17.41 7.96l-1.37-1.37c-.4-.4-.92-.59-1.43-.59-.52 0-1.04.2-1.43.59L10.3 9.45l-7.72 7.72c-.78.78-.78 2.05 0 2.83L4 21.41c.39.39.9.59 1.41.59.51 0 1.02-.2 1.41-.59l7.78-7.78 2.81-2.81c.8-.78.8-2.07 0-2.86zM5.41 20L4 18.59l7.72-7.72 1.47 1.35L5.41 20z\"/>\n",
              "  </svg>\n",
              "      </button>\n",
              "      \n",
              "  <style>\n",
              "    .colab-df-container {\n",
              "      display:flex;\n",
              "      flex-wrap:wrap;\n",
              "      gap: 12px;\n",
              "    }\n",
              "\n",
              "    .colab-df-convert {\n",
              "      background-color: #E8F0FE;\n",
              "      border: none;\n",
              "      border-radius: 50%;\n",
              "      cursor: pointer;\n",
              "      display: none;\n",
              "      fill: #1967D2;\n",
              "      height: 32px;\n",
              "      padding: 0 0 0 0;\n",
              "      width: 32px;\n",
              "    }\n",
              "\n",
              "    .colab-df-convert:hover {\n",
              "      background-color: #E2EBFA;\n",
              "      box-shadow: 0px 1px 2px rgba(60, 64, 67, 0.3), 0px 1px 3px 1px rgba(60, 64, 67, 0.15);\n",
              "      fill: #174EA6;\n",
              "    }\n",
              "\n",
              "    [theme=dark] .colab-df-convert {\n",
              "      background-color: #3B4455;\n",
              "      fill: #D2E3FC;\n",
              "    }\n",
              "\n",
              "    [theme=dark] .colab-df-convert:hover {\n",
              "      background-color: #434B5C;\n",
              "      box-shadow: 0px 1px 3px 1px rgba(0, 0, 0, 0.15);\n",
              "      filter: drop-shadow(0px 1px 2px rgba(0, 0, 0, 0.3));\n",
              "      fill: #FFFFFF;\n",
              "    }\n",
              "  </style>\n",
              "\n",
              "      <script>\n",
              "        const buttonEl =\n",
              "          document.querySelector('#df-db10df82-a6b8-460c-ba7f-55aa4d9cbc94 button.colab-df-convert');\n",
              "        buttonEl.style.display =\n",
              "          google.colab.kernel.accessAllowed ? 'block' : 'none';\n",
              "\n",
              "        async function convertToInteractive(key) {\n",
              "          const element = document.querySelector('#df-db10df82-a6b8-460c-ba7f-55aa4d9cbc94');\n",
              "          const dataTable =\n",
              "            await google.colab.kernel.invokeFunction('convertToInteractive',\n",
              "                                                     [key], {});\n",
              "          if (!dataTable) return;\n",
              "\n",
              "          const docLinkHtml = 'Like what you see? Visit the ' +\n",
              "            '<a target=\"_blank\" href=https://colab.research.google.com/notebooks/data_table.ipynb>data table notebook</a>'\n",
              "            + ' to learn more about interactive tables.';\n",
              "          element.innerHTML = '';\n",
              "          dataTable['output_type'] = 'display_data';\n",
              "          await google.colab.output.renderOutput(dataTable, element);\n",
              "          const docLink = document.createElement('div');\n",
              "          docLink.innerHTML = docLinkHtml;\n",
              "          element.appendChild(docLink);\n",
              "        }\n",
              "      </script>\n",
              "    </div>\n",
              "  </div>\n",
              "  "
            ]
          },
          "metadata": {},
          "execution_count": 55
        }
      ]
    },
    {
      "cell_type": "code",
      "source": [
        "y = df_no_pitchers['salary']\n",
        "X = df_no_pitchers[['games','bats','runs','rbi', 'hits', 'doubles', 'triples', 'homeruns', 'walks', 'strike_outs', 'weight','height']]"
      ],
      "metadata": {
        "id": "i0FOuwFcoUsO"
      },
      "execution_count": 56,
      "outputs": []
    },
    {
      "cell_type": "code",
      "source": [
        "print(y.shape)\n",
        "print(X.shape)"
      ],
      "metadata": {
        "colab": {
          "base_uri": "https://localhost:8080/"
        },
        "id": "meLGQnY9pgqU",
        "outputId": "97ddb0bf-0767-40d1-b771-bafc03740326"
      },
      "execution_count": 57,
      "outputs": [
        {
          "output_type": "stream",
          "name": "stdout",
          "text": [
            "(486,)\n",
            "(486, 12)\n"
          ]
        }
      ]
    },
    {
      "cell_type": "code",
      "source": [
        "from sklearn.model_selection import train_test_split\n",
        "\n",
        "X_train, X_test, y_train, y_test = train_test_split(X, y, random_state=42)"
      ],
      "metadata": {
        "id": "cDxiMHVMug9y"
      },
      "execution_count": 58,
      "outputs": []
    },
    {
      "cell_type": "code",
      "source": [
        "#Create Model\n",
        "from sklearn.linear_model import LinearRegression\n",
        "model = LinearRegression()\n",
        "\n",
        "# Fitting our model with all our features in X\n",
        "model.fit(X_train, y_train)"
      ],
      "metadata": {
        "id": "t-bXB2DsF83g",
        "colab": {
          "base_uri": "https://localhost:8080/"
        },
        "outputId": "19a70335-998e-4f1b-80d3-d7d6959b12ba"
      },
      "execution_count": 59,
      "outputs": [
        {
          "output_type": "execute_result",
          "data": {
            "text/plain": [
              "LinearRegression()"
            ]
          },
          "metadata": {},
          "execution_count": 59
        }
      ]
    },
    {
      "cell_type": "code",
      "source": [
        "# Check R-Squared\n",
        "training_score = model.score(X_train, y_train)\n",
        "testing_score = model.score(X_test, y_test)\n",
        "\n",
        "print(f\"Training Score: {training_score}\")\n",
        "print(f\"Testing Score: {testing_score}\")"
      ],
      "metadata": {
        "id": "oZoo5Ne5GRt0",
        "colab": {
          "base_uri": "https://localhost:8080/"
        },
        "outputId": "908a35fa-582f-4482-c5ac-8522a0545e8e"
      },
      "execution_count": 60,
      "outputs": [
        {
          "output_type": "stream",
          "name": "stdout",
          "text": [
            "Training Score: 0.4871002924206179\n",
            "Testing Score: 0.2070607699650674\n"
          ]
        }
      ]
    },
    {
      "cell_type": "code",
      "source": [
        "#Residuals\n",
        "plt.scatter(model.predict(X_train), model.predict(X_train) - y_train, c=\"blue\", label=\"Training Data\")\n",
        "plt.scatter(model.predict(X_test), model.predict(X_test) - y_test, c=\"orange\", label=\"Testing Data\")\n",
        "plt.legend()\n",
        "plt.hlines(y=0, xmin=y.min(), xmax=y.max())\n",
        "plt.title(\"Residual Plot\")\n",
        "plt.show()"
      ],
      "metadata": {
        "id": "rGhHdtJBGU0D",
        "colab": {
          "base_uri": "https://localhost:8080/",
          "height": 294
        },
        "outputId": "80f3dcc2-06d8-405d-d16e-44904dea601c"
      },
      "execution_count": 61,
      "outputs": [
        {
          "output_type": "display_data",
          "data": {
            "text/plain": [
              "<Figure size 432x288 with 1 Axes>"
            ],
            "image/png": "[encoded data removed]"
          },
          "metadata": {
            "needs_background": "light"
          }
        }
      ]
    },
    {
      "cell_type": "code",
      "source": [
        "from google.colab import files\n",
        "\n",
        "df_no_pitchers.to_csv('2015_No_Pitchers_Regression.csv', encoding = 'utf-8-sig') \n",
        "files.download('2015_No_Pitchers_Regression.csv')"
      ],
      "metadata": {
        "colab": {
          "base_uri": "https://localhost:8080/",
          "height": 17
        },
        "id": "4df_r3uBvScc",
        "outputId": "bda72347-b499-45a9-9a5d-21c3e76b2357"
      },
      "execution_count": 62,
      "outputs": [
        {
          "output_type": "display_data",
          "data": {
            "text/plain": [
              "<IPython.core.display.Javascript object>"
            ],
            "application/javascript": [
              "\n",
              "    async function download(id, filename, size) {\n",
              "      if (!google.colab.kernel.accessAllowed) {\n",
              "        return;\n",
              "      }\n",
              "      const div = document.createElement('div');\n",
              "      const label = document.createElement('label');\n",
              "      label.textContent = `Downloading \"${filename}\": `;\n",
              "      div.appendChild(label);\n",
              "      const progress = document.createElement('progress');\n",
              "      progress.max = size;\n",
              "      div.appendChild(progress);\n",
              "      document.body.appendChild(div);\n",
              "\n",
              "      const buffers = [];\n",
              "      let downloaded = 0;\n",
              "\n",
              "      const channel = await google.colab.kernel.comms.open(id);\n",
              "      // Send a message to notify the kernel that we're ready.\n",
              "      channel.send({})\n",
              "\n",
              "      for await (const message of channel.messages) {\n",
              "        // Send a message to notify the kernel that we're ready.\n",
              "        channel.send({})\n",
              "        if (message.buffers) {\n",
              "          for (const buffer of message.buffers) {\n",
              "            buffers.push(buffer);\n",
              "            downloaded += buffer.byteLength;\n",
              "            progress.value = downloaded;\n",
              "          }\n",
              "        }\n",
              "      }\n",
              "      const blob = new Blob(buffers, {type: 'application/binary'});\n",
              "      const a = document.createElement('a');\n",
              "      a.href = window.URL.createObjectURL(blob);\n",
              "      a.download = filename;\n",
              "      div.appendChild(a);\n",
              "      a.click();\n",
              "      div.remove();\n",
              "    }\n",
              "  "
            ]
          },
          "metadata": {}
        },
        {
          "output_type": "display_data",
          "data": {
            "text/plain": [
              "<IPython.core.display.Javascript object>"
            ],
            "application/javascript": [
              "download(\"download_8b872645-29c5-4eb6-a3ef-aebf764ab343\", \"2015_No_Pitchers_Regression.csv\", 117705)"
            ]
          },
          "metadata": {}
        }
      ]
    }
  ]
}